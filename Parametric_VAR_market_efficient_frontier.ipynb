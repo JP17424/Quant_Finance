{
 "cells": [
  {
   "attachments": {},
   "cell_type": "markdown",
   "id": "7af60d63",
   "metadata": {},
   "source": [
    "# Quantitative Risk Analysis for finance \n",
    "\n",
    "- Here we will develop a Parametric VAR (Value at Risk) model. "
   ]
  },
  {
   "attachments": {},
   "cell_type": "markdown",
   "id": "29f0a88a",
   "metadata": {},
   "source": [
    "# Parametric VAR model \n",
    "\n",
    "- Value at Risk (VaR) is the regulatory measurement for assessing market risk. It reports the maximum likely loss on a portfolio for a given probability defined as x% confidence level over N days. VaR is vital in market risk management and control. Also regulatory and economic capital computation is based on VaR results. Although VaR measure is objective and intuitive, it doesn’t capture tail risk. There are three commonly used methodologies to calculate VaR – parametric, historical simulation and Monte Carlo simulation.\n",
    "\n",
    "- The above can be thought of as the probability of a specified financial loss occurring at or within a specified point in time.  \n",
    "\n",
    "- Here, we will develop a parametric VAR model."
   ]
  },
  {
   "cell_type": "code",
   "execution_count": 2,
   "id": "5655b16b",
   "metadata": {},
   "outputs": [],
   "source": [
    "# import libraries as required\n",
    "# note: \"import yfinance as yf\" is required as the data on Yahoo is now encrypted, \n",
    "# so we need yfinance API to fetch data \n",
    "import pandas as pd \n",
    "import numpy as np \n",
    "import datetime as dt \n",
    "from pandas_datareader import data as pdr\n",
    "import yfinance as yf    \n",
    "import matplotlib.pyplot as plt\n",
    "import scipy as sp\n",
    "from scipy.optimize import minimize\n",
    "\n",
    "# override recursion limit(s)\n",
    "import sys\n",
    "sys.setrecursionlimit(10000)"
   ]
  },
  {
   "cell_type": "code",
   "execution_count": 3,
   "id": "1df7a53c",
   "metadata": {},
   "outputs": [],
   "source": [
    "# firstly we override the default panda data reader with a yahoo module to fetch data \n",
    "yf.pdr_override()"
   ]
  },
  {
   "attachments": {},
   "cell_type": "markdown",
   "id": "806aef19",
   "metadata": {},
   "source": [
    "# The Efficient Frontier - Part 1 \n",
    "# Expected returns based on a given portfolio\n",
    "\n",
    "- To create a VAR analysis model, we will create the 'efficient frontier', i.e., plot returns as a function of risk such that an optimised portfolio can be created. \n",
    "\n",
    "- The efficient frontier is a 2nd order polynomial showing the set of optimal portfolios that offer the highest expected return for a defined level of risk or the lowest risk for a given level of expected return. \n",
    "- Portfolios that lie below the efficient frontier are sub-optimal because they do not provide enough return for the level of risk. Portfolios that cluster to the right of the efficient frontier are sub-optimal because they have a higher level of risk for the defined rate of return.\n",
    "\n",
    "- Hence, the efficient frontier calculates the highest return of a portfolio for a specified level or risk. This is portfolio optimisation.  "
   ]
  },
  {
   "cell_type": "code",
   "execution_count": 4,
   "id": "0b3ef71d",
   "metadata": {},
   "outputs": [
    {
     "name": "stdout",
     "output_type": "stream",
     "text": [
      "['UBER', 'MCD', 'SBUX']\n"
     ]
    }
   ],
   "source": [
    "# here, we define the stock tickers which will be used to fetch live data from yahoo finance via API  \n",
    "# I have chosen 3 at random, placed in a list and specified stock weightings, as below... \n",
    "tickers = ['UBER','MCD','SBUX']  \n",
    "\n",
    "stock_name = [stock_name for stock_name in tickers] \n",
    "\n",
    "weights = np.array([0.3,0.3,0.4])\n",
    "\n",
    "print(stock_name)\n"
   ]
  },
  {
   "cell_type": "code",
   "execution_count": 5,
   "id": "4274d272",
   "metadata": {},
   "outputs": [],
   "source": [
    "# we now define the end date and the start dates which we will use to grab data,\n",
    "# here I will use the current time and previous 365 days, as below...\n",
    "\n",
    "end_date = dt.datetime.now()\n",
    "start_date = end_date - dt.timedelta(days=365)\n"
   ]
  },
  {
   "cell_type": "code",
   "execution_count": 6,
   "id": "d89d603d",
   "metadata": {},
   "outputs": [],
   "source": [
    "# Having specified the tickets, end date, and start date, \n",
    "# we use the yahoo API and create a data frame of stock data using pandas...   \n",
    "\n",
    "\n",
    "# Hence, we define such a function to pull stock data \n",
    "def get_data(stock_name,start_date,end_date):\n",
    "    \n",
    "    # this will fetch all data and store in panda data frame \n",
    "    stock_data = pdr.get_data_yahoo(stock_name,start=start_date,end=end_date)  \n",
    "    \n",
    "    # we only want the close data, so specify this here  \n",
    "    stock_data = stock_data['Close']    \n",
    "    \n",
    "    # we want to get the stock return(s) \n",
    "    stock_returns = stock_data.pct_change()\n",
    "    \n",
    "    # we also want the mean and covariance of the returns as we will use these in our calculations\n",
    "    stock_returns_mean = stock_returns.mean()\n",
    "    stock_returns_covMatrix = stock_returns.cov()\n",
    "    \n",
    "    return stock_returns_mean, stock_returns_covMatrix  \n"
   ]
  },
  {
   "cell_type": "code",
   "execution_count": 7,
   "id": "47db494d",
   "metadata": {},
   "outputs": [
    {
     "name": "stdout",
     "output_type": "stream",
     "text": [
      "[*********************100%***********************]  3 of 3 completed\n"
     ]
    },
    {
     "data": {
      "text/plain": [
       "(MCD     0.000665\n",
       " SBUX    0.000926\n",
       " UBER    0.002976\n",
       " dtype: float64,\n",
       "            MCD      SBUX      UBER\n",
       " MCD   0.000103  0.000081  0.000020\n",
       " SBUX  0.000081  0.000301  0.000183\n",
       " UBER  0.000020  0.000183  0.001045)"
      ]
     },
     "execution_count": 7,
     "metadata": {},
     "output_type": "execute_result"
    }
   ],
   "source": [
    "# we call the above function... \n",
    "get_data(stock_name,start_date,end_date)\n"
   ]
  },
  {
   "attachments": {},
   "cell_type": "markdown",
   "id": "e0b8175c",
   "metadata": {},
   "source": [
    "- Note: portfolio variance = $w^{T} \\ \\Sigma \\ w $\n",
    "\n",
    "- where, w = weights, T = transpose (both are matrices)"
   ]
  },
  {
   "cell_type": "code",
   "execution_count": 8,
   "id": "a8d7b538",
   "metadata": {},
   "outputs": [],
   "source": [
    "# next, we calculate the portfolio performance, i.e., calculate the return and standard deviation of\n",
    "# a given portfolio with given stock weightings...  \n",
    "\n",
    "# hence, we define such a function\n",
    "def portfolio_performance(weights, stock_returns_mean, stock_returns_covMatrix):\n",
    "    \n",
    "    # we sum the mean returns and multiply by the weighting of each stock in the portfolio, \n",
    "    # note: this is daily, so we also need to multiply by the number of trading days in a year\n",
    "    portfolio_returns = np.sum(stock_returns_mean*weights)*252\n",
    "    \n",
    "    # we also need the standard deviations \n",
    "    portfolio_std_dev = np.sqrt( np.dot(weights.T, np.dot(stock_returns_covMatrix,weights))) * np.sqrt(252)\n",
    "    \n",
    "    return portfolio_returns, portfolio_std_dev "
   ]
  },
  {
   "cell_type": "code",
   "execution_count": 9,
   "id": "48394fd8",
   "metadata": {},
   "outputs": [
    {
     "name": "stdout",
     "output_type": "stream",
     "text": [
      "[*********************100%***********************]  3 of 3 completed\n",
      "Expected return :  42.028054817318484 +/- 25.927274105428904\n"
     ]
    }
   ],
   "source": [
    "# putting all the above together...\n",
    "\n",
    "# we have chosen out stocks (and tickers), the start and end time, and the stock weightings in portfolio, \n",
    "# now, we calculate the stock return of each stock and the covariance matrix,\n",
    "# we then use this, in combination with our weightings to calculate portfolio performance, \n",
    "# this is shown in terms of return and an uncertainty, i.e., standard deviation \n",
    "\n",
    "# calculate the mean and covariacne \n",
    "stock_returns_mean,stock_returns_covMatrix = get_data(stock_name,start_date,end_date)\n",
    "\n",
    "# calculate the stock performace  \n",
    "portfolio_returns, portfolio_std_dev = portfolio_performance(weights, stock_returns_mean, stock_returns_covMatrix)\n",
    "\n",
    "# lets print results as a percentage\n",
    "print('Expected return : ', portfolio_returns*100, '+/-', portfolio_std_dev*100)"
   ]
  },
  {
   "attachments": {},
   "cell_type": "markdown",
   "id": "cd2ee8aa",
   "metadata": {},
   "source": [
    "# Putting it together...\n",
    "- Having defined the required functions, as above, we can run the above code using a few lines, as below... \n",
    "- Just define the ticker, weightings, time, and then run code... \n",
    "- The expected return will be printed. "
   ]
  },
  {
   "cell_type": "code",
   "execution_count": 10,
   "id": "fe307314",
   "metadata": {},
   "outputs": [
    {
     "name": "stdout",
     "output_type": "stream",
     "text": [
      "[*********************100%***********************]  3 of 3 completed\n",
      "Expected return :  23.700029325292007 +/- 24.970666734724496\n"
     ]
    }
   ],
   "source": [
    "tickers = ['AAPL','MSFT','GS']\n",
    "weights = np.array([0.3,0.3,0.4])\n",
    "stock_name = [stock_name for stock_name in tickers] \n",
    "end_date = dt.datetime.now()\n",
    "start_date = end_date - dt.timedelta(days=365)\n",
    "stock_returns_mean,stock_returns_covMatrix = get_data(stock_name,start_date,end_date) \n",
    "portfolio_returns, portfolio_std_dev = portfolio_performance(weights, stock_returns_mean, stock_returns_covMatrix)\n",
    "print('Expected return : ', portfolio_returns*100, '+/-', portfolio_std_dev*100)"
   ]
  },
  {
   "attachments": {},
   "cell_type": "markdown",
   "id": "4270423a",
   "metadata": {},
   "source": [
    "# The Efficient Frontier - Part 2 \n",
    "# The Sharpe Ratio - (Maximum sharp ratio)\n",
    "\n",
    "- Having created a portfolio and calculated the return, we now need to modify the portfolio such that we can optimise it. \n",
    "- To do this, we will first calculate the Sharpe ratio.\n",
    "\n",
    "- The Sharpe ratio compares the return of an investment with its risk. Economist William F. Sharpe proposed the Sharpe ratio in 1966 as an outgrowth of his work on the capital asset pricing model (CAPM), calling it the reward-to-variability ratio. Sharpe won the Nobel Prize in economics for his work on CAPM in 1990.\n",
    "\n",
    "- The Sharpe ratio's numerator is the difference over time between realized, or expected, returns and a benchmark such as the risk-free rate of return or the performance of a particular investment category. Its denominator is the standard deviation of returns over the same period of time, a measure of volatility and risk.\n",
    "- We will therefore get the stock weights for a maximum sharpe ratio for a given portfolio, i.e., the ratio of stock allocation in a portfolio which gives the best return with a specified risk, (returns divided by the std. dev.) "
   ]
  },
  {
   "cell_type": "code",
   "execution_count": 11,
   "id": "387c68e5",
   "metadata": {},
   "outputs": [],
   "source": [
    "# Here, we define a function which accepts the weight of a stock, the return of a stock, \n",
    "# the covariance of a stock, and an optional parameter of the risk free rate as parameters, \n",
    "# and returns a negative sharpe ratio (more on the -ve value later)\n",
    "def get_neagtive_sharpe_ratio(weights, stock_returns_mean, stock_returns_covMatrix, risk_free_rate =0):\n",
    "    \n",
    "    # calculate portfolio returns and std. dev. \n",
    "    portfolio_returns, portfolio_std_dev = portfolio_performance(weights, stock_returns_mean, stock_returns_covMatrix)\n",
    "    \n",
    "    # use portfolio returns, risk free rate, and portfolio std. dev. to calculate a negative value for sharpe ration \n",
    "    neg_sharp_ratio_value = -(portfolio_returns-risk_free_rate)/portfolio_std_dev\n",
    "    \n",
    "    return neg_sharp_ratio_value\n"
   ]
  },
  {
   "cell_type": "code",
   "execution_count": 12,
   "id": "69850638",
   "metadata": {},
   "outputs": [],
   "source": [
    "# Having defined the sharpe ratio, we now want a function which finds the maximum sharpe ratio, \n",
    "# note: as we flipped the sharpe ratio, hence making it negative, minimising this will maximise the \n",
    "# sharpe ratio. We do this as it is easier to find a minimum of a function using scipy, \n",
    "# see docs...\n",
    "# https://docs.scipy.org/doc/scipy/tutorial/optimize.html\n",
    "\n",
    "# Here, we define a function will changes the weights of the stocks in the portfolio to get the maximum sharpe ratio \n",
    "def get_max_sharpe_ratio(stock_returns_mean, stock_returns_covMatrix, risk_free_rate =0,constraint_conditions=(0,1)):\n",
    "    \n",
    "    # first get number of stocks... \n",
    "    number_of_stocks = len(stock_returns_mean)\n",
    "    \n",
    "    # pass arguments to scipy optimisation function\n",
    "    args_to_be_passed = (stock_returns_mean, stock_returns_covMatrix, risk_free_rate)\n",
    "\n",
    "    # also need constraints which need to be tuple \n",
    "    constraints = ({'type':'eq','fun':lambda x: np.sum(x)-1})\n",
    "    \n",
    "    # also need bounds \n",
    "    bound = constraint_conditions\n",
    "    bounds = tuple(bound for stock in range(number_of_stocks))\n",
    "    \n",
    "    # notes on scipy optimisation...\n",
    "    # first argument is what (function) we are trying to optimise over, this will be the sharp ratio, \n",
    "    # next is the changing parameter, i.e., the weighting. \n",
    "    # We also need an initial guess for initialisation, \n",
    "    # we then have the function arguments, \n",
    "    # also, we have the method of optimisation, we will choose Sequential Least Squares Programming optimizer, \n",
    "    # and we also choose boundry conditions, and constraints \n",
    "    result = sp.optimize.minimize(get_neagtive_sharpe_ratio, number_of_stocks*[1./number_of_stocks],\n",
    "                                 args = args_to_be_passed, method='SLSQP',bounds=bounds,constraints=constraints) \n",
    "    \n",
    "    return result"
   ]
  },
  {
   "cell_type": "code",
   "execution_count": 13,
   "id": "55d4aa8f",
   "metadata": {},
   "outputs": [
    {
     "name": "stdout",
     "output_type": "stream",
     "text": [
      "This is the best reward vs. risk calculation...\n",
      "\n",
      "best Sharpe ratio is:\n",
      "\n",
      " 1.0883556746597047 \n",
      "\n",
      "with a % stock allocation of:\n",
      "\n",
      " [77.15  0.   22.85] \n",
      "\n",
      "in: ['AAPL', 'GS', 'MSFT']\n"
     ]
    }
   ],
   "source": [
    "# print \n",
    "print('This is the best reward vs. risk calculation...\\n')\n",
    "\n",
    "# we call the above function for optimised (max) Sharpe ratio...\n",
    "result_output = get_max_sharpe_ratio(stock_returns_mean, stock_returns_covMatrix)\n",
    "\n",
    "# and print info...\n",
    "max_sharpe_ratio, stock_allocation = result_output['fun'], result_output['x']\n",
    "\n",
    "print('best Sharpe ratio is:\\n\\n',-max_sharpe_ratio,'\\n\\nwith a % stock allocation of:\\n\\n',\n",
    "      np.round(stock_allocation*100, 2), \n",
    "     '\\n\\nin:',list((stock_returns_mean.head()).index))"
   ]
  },
  {
   "attachments": {},
   "cell_type": "markdown",
   "id": "37f96716",
   "metadata": {},
   "source": [
    "# The Efficient Frontier - Part 3 \n",
    "\n",
    "# Optimising the sharp ratio for a portfolio with minimum portfolio variance (risk) "
   ]
  },
  {
   "cell_type": "code",
   "execution_count": 14,
   "id": "5013aa14",
   "metadata": {},
   "outputs": [],
   "source": [
    "# we need to define a function which takes a portfolio weight and returns the risk (variance)\n",
    "# to do that we reuse the portfolio_performance function and just get one parameter from it, as below... \n",
    "\n",
    "def portfolio_variance(weights, stock_returns_mean, stock_returns_covMatrix):\n",
    "\n",
    "    # this will therefore call the original function and return only 1 parameter\n",
    "    return portfolio_performance(weights, stock_returns_mean, stock_returns_covMatrix)[1] "
   ]
  },
  {
   "cell_type": "code",
   "execution_count": 15,
   "id": "564063a1",
   "metadata": {},
   "outputs": [],
   "source": [
    "# now we build the optimisation function, and minimise portfolio variance by altering stock weights or allocation. \n",
    "# This function is similar to the maximise sharpe ratio formula,\n",
    "# i.e., we are using an optimisation function...\n",
    "\n",
    "# note: the code is copied from max sharpe ratio, as above, see for details,\n",
    "# however, the function passed for optimised via scipy is different...\n",
    "\n",
    "def get_minimum_portfolio_variance(stock_returns_mean, stock_returns_covMatrix,constraint_conditions=(0,1)):\n",
    "    \n",
    "    number_of_stocks = len(stock_returns_mean)\n",
    "\n",
    "    args_to_be_passed = (stock_returns_mean, stock_returns_covMatrix)\n",
    "\n",
    "    constraints = ({'type':'eq','fun':lambda x: np.sum(x)-1})\n",
    "  \n",
    "    bound = constraint_conditions\n",
    "    bounds = tuple(bound for stock in range(number_of_stocks))\n",
    "    \n",
    "    # note the change in input function (first argument)\n",
    "    result = sp.optimize.minimize(portfolio_variance, number_of_stocks*[1./number_of_stocks],\n",
    "                                 args = args_to_be_passed, method='SLSQP',bounds=bounds,constraints=constraints) \n",
    "    \n",
    "    return result"
   ]
  },
  {
   "cell_type": "code",
   "execution_count": 16,
   "id": "76a0f20f",
   "metadata": {},
   "outputs": [
    {
     "name": "stdout",
     "output_type": "stream",
     "text": [
      "this is the minimum variacne portfolio...\n",
      "\n",
      "Sharpe ratio for minimum variance portfolio is:\n",
      "\n",
      " 0.23535423361739263 \n",
      "\n",
      "with a % stock allocation of:\n",
      "\n",
      " [28.19 56.54 15.28] \n",
      "\n",
      "in: ['AAPL', 'GS', 'MSFT']\n"
     ]
    }
   ],
   "source": [
    "# this is the minimum variacne portfolio\n",
    "print('this is the minimum variacne portfolio...\\n')\n",
    "\n",
    "# we call the above function to determine the minimum variance portfolio...\n",
    "variance_result_output = get_minimum_portfolio_variance(stock_returns_mean, stock_returns_covMatrix)\n",
    "\n",
    "# and print info...\n",
    "min_variance, min_var_stock_allocation = variance_result_output['fun'], variance_result_output['x']\n",
    "\n",
    "print('Sharpe ratio for minimum variance portfolio is:\\n\\n',min_variance,'\\n\\nwith a % stock allocation of:\\n\\n',\n",
    "      np.round(min_var_stock_allocation*100, 2), \n",
    "     '\\n\\nin:',list((stock_returns_mean.head()).index))"
   ]
  },
  {
   "attachments": {},
   "cell_type": "markdown",
   "id": "16f19f68",
   "metadata": {},
   "source": [
    "# The Efficient Frontier - Part 4  \n",
    "# We will now obtain results for a portfolio with the maximum sharpe ratio, i.e., the highest level of returns for a given level of volatility, and the returns for the minimum variance portfolio, i.e., the portfolio with the minimum variancne and associated portfolio weightings..."
   ]
  },
  {
   "attachments": {},
   "cell_type": "markdown",
   "id": "3519d839",
   "metadata": {},
   "source": [
    "- We will read in the mean returns and the covariant matrix of the selected stocks in the portfolio, and output the maximum sharpe ratio and the minimum volatility. \n",
    "- This gives us the highest level of return for a specified level of risk, and the return for a minimum variance (risk) portfolio. \n",
    "- These can then be used to create the effective frontier plot. "
   ]
  },
  {
   "cell_type": "code",
   "execution_count": 17,
   "id": "02e57b08",
   "metadata": {},
   "outputs": [],
   "source": [
    "def results_for_efficient_frontier(stock_returns_mean, stock_returns_covMatrix, \n",
    "                                   risk_free_rate =0,constraint_conditions=(0,1)):\n",
    "    \n",
    "    # get sharpe ratio and stock allocation \n",
    "    results_max_SR = get_max_sharpe_ratio(stock_returns_mean, stock_returns_covMatrix)\n",
    "    \n",
    "    # then get returns based on stock allocation \n",
    "    max_SR_returns, max_SR_std_dev = portfolio_performance(results_max_SR['x'], stock_returns_mean, stock_returns_covMatrix)\n",
    "    \n",
    "    # lets reformat the data \n",
    "    max_SR_returns, max_SR_std_dev = np.round(max_SR_returns*100,2), np.round(max_SR_std_dev*100,2)\n",
    "    \n",
    "    # create a panda data frame to output results in a nice format \n",
    "    max_SR_portfolio = pd.DataFrame(results_max_SR['x'], index=stock_returns_mean.index, columns=[\"weighting\"])\n",
    "    \n",
    "    # lets edit the data format - (turn to percentage and round) \n",
    "    max_SR_portfolio.weighting = [round(i*100,2) for i in max_SR_portfolio.weighting]\n",
    "    \n",
    "    \n",
    "    # ----- \n",
    "    # repeating the above code for the minimum variance portfolio\n",
    "    results_min_var = get_minimum_portfolio_variance(stock_returns_mean, stock_returns_covMatrix)\n",
    "\n",
    "    min_var_returns, min_var_std_dev = portfolio_performance(results_min_var['x'], stock_returns_mean, stock_returns_covMatrix)\n",
    "\n",
    "    min_var_returns, min_var_std_dev = np.round(min_var_returns*100,2), np.round(min_var_std_dev*100,2)\n",
    "    \n",
    "    min_var_portfolio = pd.DataFrame(results_min_var['x'], index=stock_returns_mean.index, columns=[\"weighting\"])\n",
    "\n",
    "    min_var_portfolio.weighting = [round(i*100,2) for i in min_var_portfolio.weighting]\n",
    "    \n",
    "    return max_SR_returns, max_SR_std_dev, max_SR_portfolio, min_var_returns, min_var_std_dev, min_var_portfolio    "
   ]
  },
  {
   "cell_type": "code",
   "execution_count": 18,
   "id": "decacb62",
   "metadata": {},
   "outputs": [
    {
     "data": {
      "text/plain": [
       "(31.08,\n",
       " 28.55,\n",
       "       weighting\n",
       " AAPL      77.15\n",
       " GS         0.00\n",
       " MSFT      22.85,\n",
       " 18.06,\n",
       " 23.54,\n",
       "       weighting\n",
       " AAPL      28.19\n",
       " GS        56.54\n",
       " MSFT      15.28)"
      ]
     },
     "execution_count": 18,
     "metadata": {},
     "output_type": "execute_result"
    }
   ],
   "source": [
    "# and print info...\n",
    "results_for_efficient_frontier(stock_returns_mean, stock_returns_covMatrix)"
   ]
  },
  {
   "attachments": {},
   "cell_type": "markdown",
   "id": "d05bb123",
   "metadata": {},
   "source": [
    "# The Efficient Frontier - Part 5 \n",
    "\n",
    "- We now iterate through a list of target returns, and for each return we calculate the portfolio variance - we can then plot volatility as a function of return.\n",
    "\n",
    "- To do this, we loop the results (results_for_efficient_frontier) function, and add a new parameter. \n",
    "\n",
    "- This parameter is the target return. "
   ]
  },
  {
   "cell_type": "code",
   "execution_count": 19,
   "id": "591c0c90",
   "metadata": {},
   "outputs": [],
   "source": [
    "# for each return target, we will optimise the portfolio for minimum variance\n",
    "\n",
    "# create a portfolio returns function, this is similar to the portfolio_variance function \n",
    "# which was previously created, so we take that function and edit it such that it returns the portfolio returns, \n",
    "# instead of the portfolio variance, see *** below \n",
    "def portfolio_returns(weights, stock_returns_mean, stock_returns_covMatrix):\n",
    "    return portfolio_performance(weights, stock_returns_mean, stock_returns_covMatrix)[0] # note 0 instead of 1 \n",
    "\n",
    "\n",
    "# create function here, which can be iterated easily - similar to minimum portfolio variance formula  \n",
    "def iterate_results_for_efficient_frontier(stock_returns_mean, stock_returns_covMatrix, \n",
    "                                   portfolio_target,constraint_conditions=(0,1)):\n",
    "    \n",
    "    # numbers and args same as before \n",
    "    number_of_stocks = len(stock_returns_mean) \n",
    "\n",
    "    args_to_be_passed = (stock_returns_mean, stock_returns_covMatrix)\n",
    "    \n",
    "    # constraint placed on portfolio returns, otherwise same as before \n",
    "    constraints = ({'type':'eq','fun':lambda x: portfolio_returns(x,stock_returns_mean, \n",
    "                                                                  stock_returns_covMatrix)-portfolio_target},\n",
    "                   {'type':'eq','fun':lambda x: np.sum(x)-1})\n",
    "    \n",
    "    # bounds same as before \n",
    "    bound = constraint_conditions\n",
    "    bounds = tuple(bound for stock in range(number_of_stocks))\n",
    "    \n",
    "    # iterator same as before \n",
    "    iterate_results = sp.optimize.minimize(portfolio_variance, number_of_stocks*[1./number_of_stocks], \n",
    "                                           args = args_to_be_passed, method='SLSQP',\n",
    "                                           bounds=bounds,constraints=constraints)\n",
    "    \n",
    "    return iterate_results"
   ]
  },
  {
   "attachments": {},
   "cell_type": "markdown",
   "id": "0b9b08da",
   "metadata": {},
   "source": [
    "- And now we iterate..."
   ]
  },
  {
   "cell_type": "code",
   "execution_count": 21,
   "id": "f94e16fb",
   "metadata": {},
   "outputs": [],
   "source": [
    "# function is copied from section 4 - and we add the iterator function \n",
    "\n",
    "def results_for_efficient_frontier_2(stock_returns_mean, stock_returns_covMatrix, \n",
    "                                   risk_free_rate =0,constraint_conditions=(0,1)):\n",
    "    \n",
    "    # -----\n",
    "    # max sharpe ratio portfolio\n",
    "    # get sharpe ratio and stock allocation \n",
    "    results_max_SR = get_max_sharpe_ratio(stock_returns_mean, stock_returns_covMatrix)\n",
    "    \n",
    "    # then get returns based on stock allocation \n",
    "    max_SR_returns, max_SR_std_dev = portfolio_performance(results_max_SR['x'], stock_returns_mean, stock_returns_covMatrix)\n",
    "        \n",
    "    # create a panda data frame to output results in a nice format \n",
    "    max_SR_portfolio = pd.DataFrame(results_max_SR['x'], index=stock_returns_mean.index, columns=[\"weighting\"])\n",
    "    \n",
    "    # lets edit the data format - (turn to percentage and round) \n",
    "    max_SR_portfolio.weighting = [round(i*100,2) for i in max_SR_portfolio.weighting]\n",
    "    \n",
    "    \n",
    "    # ----- \n",
    "    # minimum variance portfolio\n",
    "    # repeating the above code for the minimum variance portfolio\n",
    "    results_min_var = get_minimum_portfolio_variance(stock_returns_mean, stock_returns_covMatrix)\n",
    "\n",
    "    min_var_returns, min_var_std_dev = portfolio_performance(results_min_var['x'], stock_returns_mean, stock_returns_covMatrix)\n",
    "    \n",
    "    min_var_portfolio = pd.DataFrame(results_min_var['x'], index=stock_returns_mean.index, columns=[\"weighting\"])\n",
    "\n",
    "    min_var_portfolio.weighting = [round(i*100,2) for i in min_var_portfolio.weighting]\n",
    "    \n",
    "    \n",
    "    # -----\n",
    "    # the efficient frontier\n",
    "    # note: can add this here, it uses results from both the max sharpe ratio and minimum variance portfoli\n",
    "    #\n",
    "    # note:\n",
    "    # state here... the number of data points needed for the efficient frontier plot, \n",
    "    # or the number of iterations, which are between the minimum variance and max sharpe ratio portfolios, \n",
    "    # i.e., how many data points you want in your plot...\n",
    "    return_volitility = []\n",
    "    target_returns = np.linspace(min_var_returns,max_SR_returns,50)\n",
    "    for target in target_returns:\n",
    "        return_volitility.append(iterate_results_for_efficient_frontier(stock_returns_mean, stock_returns_covMatrix,target)['fun'])\n",
    "\n",
    "        \n",
    "    # lets reformat the data \n",
    "    max_SR_returns, max_SR_std_dev = np.round(max_SR_returns*100,2), np.round(max_SR_std_dev*100,2)\n",
    "    min_var_returns, min_var_std_dev = np.round(min_var_returns*100,2), np.round(min_var_std_dev*100,2)\n",
    "    \n",
    "    #target_returns = target_returns *100\n",
    "    #return_volitility = return_volitility * 100\n",
    "    \n",
    "    \n",
    "    return max_SR_returns, max_SR_std_dev, max_SR_portfolio,min_var_returns, min_var_std_dev, min_var_portfolio, target_returns, return_volitility"
   ]
  },
  {
   "attachments": {},
   "cell_type": "markdown",
   "id": "e4b3e09b",
   "metadata": {},
   "source": [
    "# Finally, create the efficient frontier plot..."
   ]
  },
  {
   "cell_type": "code",
   "execution_count": 23,
   "id": "010df086",
   "metadata": {},
   "outputs": [
    {
     "data": {
      "text/plain": [
       "Text(0, 0.5, 'Portfolio return (%)')"
      ]
     },
     "execution_count": 23,
     "metadata": {},
     "output_type": "execute_result"
    },
    {
     "data": {
      "image/png": "[encoded data removed]",
      "text/plain": [
       "<Figure size 432x288 with 1 Axes>"
      ]
     },
     "metadata": {
      "needs_background": "light"
     },
     "output_type": "display_data"
    }
   ],
   "source": [
    "# print info and plot the efficient frontier \n",
    "resultsssss = results_for_efficient_frontier_2(stock_returns_mean, stock_returns_covMatrix)\n",
    "\n",
    "plt.scatter(np.array(resultsssss[7])*100,resultsssss[6]*100)\n",
    "plt.xlabel('Standard Deviation of return (%)')\n",
    "plt.ylabel('Portfolio return (%)')"
   ]
  }
 ],
 "metadata": {
  "kernelspec": {
   "display_name": "Python 3 (ipykernel)",
   "language": "python",
   "name": "python3"
  },
  "language_info": {
   "codemirror_mode": {
    "name": "ipython",
    "version": 3
   },
   "file_extension": ".py",
   "mimetype": "text/x-python",
   "name": "python",
   "nbconvert_exporter": "python",
   "pygments_lexer": "ipython3",
   "version": "3.7.11"
  }
 },
 "nbformat": 4,
 "nbformat_minor": 5
}
